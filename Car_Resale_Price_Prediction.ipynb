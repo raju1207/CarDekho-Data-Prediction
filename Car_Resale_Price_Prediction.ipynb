{
  "nbformat": 4,
  "nbformat_minor": 0,
  "metadata": {
    "colab": {
      "provenance": [],
      "authorship_tag": "ABX9TyOnjA5T9HqN5HAy1+uj1Y/Q",
      "include_colab_link": true
    },
    "kernelspec": {
      "name": "python3",
      "display_name": "Python 3"
    },
    "language_info": {
      "name": "python"
    }
  },
  "cells": [
    {
      "cell_type": "markdown",
      "metadata": {
        "id": "view-in-github",
        "colab_type": "text"
      },
      "source": [
        "<a href=\"https://colab.research.google.com/github/raju1207/CarDekho-Data-Prediction/blob/main/Car_Resale_Price_Prediction.ipynb\" target=\"_parent\"><img src=\"https://colab.research.google.com/assets/colab-badge.svg\" alt=\"Open In Colab\"/></a>"
      ]
    },
    {
      "cell_type": "code",
      "source": [
        "import pandas as pd\n",
        "import json\n",
        "import numpy as np"
      ],
      "metadata": {
        "id": "PkojpMh1fvaG"
      },
      "execution_count": 33,
      "outputs": []
    },
    {
      "cell_type": "code",
      "source": [
        "# Data loading\n",
        "df = pd.read_excel('kolkata_cars.xlsx')\n",
        "df1 = pd.read_excel('jaipur_cars.xlsx')\n",
        "df2 = pd.read_excel('delhi_cars.xlsx')\n",
        "df3 = pd.read_excel('chennai_cars.xlsx')\n",
        "df4 = pd.read_excel('bangalore_cars.xlsx')\n",
        "df5 = pd.read_excel('hyderabad_cars.xlsx')"
      ],
      "metadata": {
        "id": "QHl2LJoIgETW"
      },
      "execution_count": 34,
      "outputs": []
    },
    {
      "cell_type": "code",
      "source": [
        "def car_overview_dict_creator(overview):\n",
        "    overview_dict = json.loads(overview.replace(\"'\", '\"').replace('None', \"1\"))\n",
        "    all_overviews = {}\n",
        "    for dictionary in overview_dict['top']:\n",
        "        all_overviews.update({dictionary['key']: dictionary['value']})\n",
        "    return all_overviews"
      ],
      "metadata": {
        "id": "TDbAqMLSDkFj"
      },
      "execution_count": 35,
      "outputs": []
    },
    {
      "cell_type": "code",
      "source": [
        "def car_feature_dict_creator(feature):\n",
        "  all_features = {}\n",
        "  feature_dict = json.loads(feature.replace(\"'\", '\"').replace('None', \"1\"))\n",
        "  for dictionary in feature_dict['top']:\n",
        "    all_features.update({dictionary['value']: True})\n",
        "    for section in feature_dict.get('data', []):\n",
        "      for item in section.get('list', []):\n",
        "        all_features.update({item['value']: True})\n",
        "  return all_features"
      ],
      "metadata": {
        "id": "gPgQ2RNMDkCK"
      },
      "execution_count": 36,
      "outputs": []
    },
    {
      "cell_type": "code",
      "source": [
        "def car_spec_dict_creator(spec):\n",
        "    all_specs = {}\n",
        "    specs_dict = json.loads(spec.replace(\"'\", '\"').replace('None', \"null\"))\n",
        "    for dictionary in specs_dict.get('top', []):\n",
        "      all_specs.update({dictionary['key']: dictionary['value']})\n",
        "    # Extract nested specifications\n",
        "    for dictionary in specs_dict.get('data', []):\n",
        "      for item in dictionary.get('list', []):\n",
        "        all_specs.update({item['key'] : item['value']})\n",
        "    return all_specs"
      ],
      "metadata": {
        "id": "sPVUPEG3Dj-S"
      },
      "execution_count": 37,
      "outputs": []
    },
    {
      "cell_type": "code",
      "source": [
        "df.new_car_detail=df['new_car_detail'].apply(lambda x : json.loads(x.replace(\"'\",'\"').replace('None',\"1\")))\n",
        "df_car_detail = pd.DataFrame(df.new_car_detail.to_list())\n",
        "# to extract car overview\n",
        "df.new_car_overview = df['new_car_overview'].apply(lambda overview: car_overview_dict_creator(overview))\n",
        "df_car_overview = pd.DataFrame(df.new_car_overview.to_list())\n",
        "# to extract car feature\n",
        "feature = pd.DataFrame(df.new_car_feature)\n",
        "feature = feature.rename(columns={feature.columns[0]: 'feature'})\n",
        "df = df.merge(feature, left_index=True, right_index=True)\n",
        "df['feature_dict'] = df['feature'].apply(car_feature_dict_creator)\n",
        "feature_df = pd.json_normalize(df['feature_dict']).fillna(False).astype(int)\n",
        "# extract car specs\n",
        "df['new_car_specs'] = df['new_car_specs'].apply(lambda spec: car_spec_dict_creator(spec))\n",
        "df_car_specs = pd.DataFrame(df['new_car_specs'].tolist())"
      ],
      "metadata": {
        "colab": {
          "base_uri": "https://localhost:8080/"
        },
        "id": "VTDhK580Elq0",
        "outputId": "6e47fd25-289f-4eaf-948c-c4da4c6d965a"
      },
      "execution_count": 38,
      "outputs": [
        {
          "output_type": "stream",
          "name": "stderr",
          "text": [
            "<ipython-input-38-d7bde1a0bc22>:11: FutureWarning: Downcasting object dtype arrays on .fillna, .ffill, .bfill is deprecated and will change in a future version. Call result.infer_objects(copy=False) instead. To opt-in to the future behavior, set `pd.set_option('future.no_silent_downcasting', True)`\n",
            "  feature_df = pd.json_normalize(df['feature_dict']).fillna(False).astype(int)\n"
          ]
        }
      ]
    },
    {
      "cell_type": "code",
      "source": [
        "df_kolkata=pd.concat([df_car_detail,df_car_overview,feature_df,df_car_specs],axis=1)\n",
        "df_kolkata[\"city\"]=\"Kolkata\"\n",
        "df_kolkata.to_csv(\"Kolkata_Data.csv\",index=False)"
      ],
      "metadata": {
        "id": "8UqL_SRsDj2N"
      },
      "execution_count": 39,
      "outputs": []
    },
    {
      "cell_type": "code",
      "source": [
        "df1.new_car_detail=df1['new_car_detail'].apply(lambda x : json.loads(x.replace(\"'\",'\"').replace('None',\"1\")))\n",
        "df1_car_detail = pd.DataFrame(df1.new_car_detail.to_list())\n",
        "\n",
        "# to extract car overview\n",
        "df1.new_car_overview = df1['new_car_overview'].apply(lambda overview: car_overview_dict_creator(overview))\n",
        "df1_car_overview = pd.DataFrame(df1.new_car_overview.to_list())\n",
        "\n",
        "# to extract car feature\n",
        "feature = pd.DataFrame(df1.new_car_feature)\n",
        "feature = feature.rename(columns={feature.columns[0]: 'feature'})\n",
        "df1 = df1.merge(feature, left_index=True, right_index=True)\n",
        "df1['feature_dict'] = df1['feature'].apply(car_feature_dict_creator)\n",
        "feature_df1 = pd.json_normalize(df1['feature_dict']).fillna(False).astype(int)\n",
        "\n",
        "# extract car specs\n",
        "df1['new_car_specs'] = df1['new_car_specs'].apply(lambda spec: car_spec_dict_creator(spec))\n",
        "df1_car_specs = pd.DataFrame(df1['new_car_specs'].tolist())"
      ],
      "metadata": {
        "colab": {
          "base_uri": "https://localhost:8080/"
        },
        "id": "Dj3JFIIEEyRa",
        "outputId": "d059441f-7b0d-471d-9434-868fe4cdc2d2"
      },
      "execution_count": 40,
      "outputs": [
        {
          "output_type": "stream",
          "name": "stderr",
          "text": [
            "<ipython-input-40-aeb3c85e5a4e>:13: FutureWarning: Downcasting object dtype arrays on .fillna, .ffill, .bfill is deprecated and will change in a future version. Call result.infer_objects(copy=False) instead. To opt-in to the future behavior, set `pd.set_option('future.no_silent_downcasting', True)`\n",
            "  feature_df1 = pd.json_normalize(df1['feature_dict']).fillna(False).astype(int)\n"
          ]
        }
      ]
    },
    {
      "cell_type": "code",
      "source": [
        "df_jaipur=pd.concat([df_car_detail,df_car_overview,feature_df,df_car_specs],axis=1)\n",
        "df_jaipur[\"city\"]=\"Jaipur\"\n",
        "df_jaipur.to_csv(\"Jaipur_Data.csv\",index=False)"
      ],
      "metadata": {
        "id": "xl6QFZnqEyN6"
      },
      "execution_count": 41,
      "outputs": []
    },
    {
      "cell_type": "code",
      "source": [
        "df2.new_car_detail=df2['new_car_detail'].apply(lambda x : json.loads(x.replace(\"'\",'\"').replace('None',\"1\")))\n",
        "df2_car_detail = pd.DataFrame(df2.new_car_detail.to_list())\n",
        "\n",
        "# to extract car overview\n",
        "df2.new_car_overview = df2['new_car_overview'].apply(lambda overview: car_overview_dict_creator(overview))\n",
        "df2_car_overview = pd.DataFrame(df2.new_car_overview.to_list())\n",
        "\n",
        "# to extract car feature\n",
        "feature = pd.DataFrame(df2.new_car_feature)\n",
        "feature = feature.rename(columns={feature.columns[0]: 'feature'})\n",
        "df2 = df2.merge(feature, left_index=True, right_index=True)\n",
        "df2['feature_dict'] = df2['feature'].apply(car_feature_dict_creator)\n",
        "feature_df2 = pd.json_normalize(df2['feature_dict']).fillna(False).astype(int)\n",
        "\n",
        "# extract car specs\n",
        "df2['new_car_specs'] = df2['new_car_specs'].apply(lambda spec: car_spec_dict_creator(spec))\n",
        "df2_car_specs = pd.DataFrame(df2['new_car_specs'].tolist())"
      ],
      "metadata": {
        "colab": {
          "base_uri": "https://localhost:8080/"
        },
        "id": "c6S0Y6JZEyK6",
        "outputId": "35b69849-e550-4c1f-faf1-33333e788bd8"
      },
      "execution_count": 42,
      "outputs": [
        {
          "output_type": "stream",
          "name": "stderr",
          "text": [
            "<ipython-input-42-7c9a75291f50>:13: FutureWarning: Downcasting object dtype arrays on .fillna, .ffill, .bfill is deprecated and will change in a future version. Call result.infer_objects(copy=False) instead. To opt-in to the future behavior, set `pd.set_option('future.no_silent_downcasting', True)`\n",
            "  feature_df2 = pd.json_normalize(df2['feature_dict']).fillna(False).astype(int)\n"
          ]
        }
      ]
    },
    {
      "cell_type": "code",
      "source": [
        "df_delhi=pd.concat([df_car_detail,df_car_overview,feature_df,df_car_specs],axis=1)\n",
        "df_delhi[\"city\"]=\"Delhi\"\n",
        "df_delhi.to_csv(\"Delhi Data.csv\",index=False)"
      ],
      "metadata": {
        "id": "Rqqr6OaLEyG2"
      },
      "execution_count": 43,
      "outputs": []
    },
    {
      "cell_type": "code",
      "source": [
        "df3.new_car_detail=df3['new_car_detail'].apply(lambda x : json.loads(x.replace(\"'\",'\"').replace('None',\"1\")))\n",
        "df3_car_detail = pd.DataFrame(df3.new_car_detail.to_list())\n",
        "\n",
        "# to extract car overview\n",
        "df3.new_car_overview = df3['new_car_overview'].apply(lambda overview: car_overview_dict_creator(overview))\n",
        "df3_car_overview = pd.DataFrame(df3.new_car_overview.to_list())\n",
        "\n",
        "# to extract car feature\n",
        "feature = pd.DataFrame(df3.new_car_feature)\n",
        "feature = feature.rename(columns={feature.columns[0]: 'feature'})\n",
        "df3 = df3.merge(feature, left_index=True, right_index=True)\n",
        "df3['feature_dict'] = df3['feature'].apply(car_feature_dict_creator)\n",
        "feature_df3 = pd.json_normalize(df3['feature_dict']).fillna(False).astype(int)\n",
        "\n",
        "# extract car specs\n",
        "df3['new_car_specs'] = df3['new_car_specs'].apply(lambda spec: car_spec_dict_creator(spec))\n",
        "df3_car_specs = pd.DataFrame(df3['new_car_specs'].tolist())"
      ],
      "metadata": {
        "colab": {
          "base_uri": "https://localhost:8080/"
        },
        "id": "Lw6ijBLlEx8d",
        "outputId": "d035671f-78a3-453a-a99d-3a74f234f1af"
      },
      "execution_count": 44,
      "outputs": [
        {
          "output_type": "stream",
          "name": "stderr",
          "text": [
            "<ipython-input-44-880c5a0369c3>:13: FutureWarning: Downcasting object dtype arrays on .fillna, .ffill, .bfill is deprecated and will change in a future version. Call result.infer_objects(copy=False) instead. To opt-in to the future behavior, set `pd.set_option('future.no_silent_downcasting', True)`\n",
            "  feature_df3 = pd.json_normalize(df3['feature_dict']).fillna(False).astype(int)\n"
          ]
        }
      ]
    },
    {
      "cell_type": "code",
      "source": [
        "df_chennai=pd.concat([df_car_detail,df_car_overview,feature_df,df_car_specs],axis=1)\n",
        "df_chennai[\"city\"]=\"Chennai\"\n",
        "df_chennai.to_csv(\"Chennai_Data.csv\",index=False)"
      ],
      "metadata": {
        "id": "RaoKlSDvFsOX"
      },
      "execution_count": 45,
      "outputs": []
    },
    {
      "cell_type": "code",
      "source": [
        "df4.new_car_detail = df4['new_car_detail'].apply(lambda x : json.loads(x.replace(\"'\",'\"').replace('None',\"1\")))\n",
        "df4_car_detail = pd.DataFrame(df4.new_car_detail.to_list())\n",
        "\n",
        "# to extract car overview\n",
        "df4.new_car_overview = df4['new_car_overview'].apply(lambda overview: car_overview_dict_creator(overview))\n",
        "df4_car_overview = pd.DataFrame(df4.new_car_overview.to_list())\n",
        "\n",
        "# to extract car feature\n",
        "feature = pd.DataFrame(df4.new_car_feature)\n",
        "feature = feature.rename(columns={feature.columns[0]: 'feature'})\n",
        "df4 = df4.merge(feature, left_index=True, right_index=True)\n",
        "df4['feature_dict'] = df4['feature'].apply(car_feature_dict_creator)\n",
        "feature_df4 = pd.json_normalize(df4['feature_dict']).fillna(False).astype(int)\n",
        "\n",
        "# extract car specs\n",
        "df4['new_car_specs'] = df4['new_car_specs'].apply(lambda spec: car_spec_dict_creator(spec))\n",
        "df4_car_specs = pd.DataFrame(df4['new_car_specs'].tolist())"
      ],
      "metadata": {
        "colab": {
          "base_uri": "https://localhost:8080/"
        },
        "id": "pakSq1DvFsK7",
        "outputId": "fb024ea5-a80f-4f8a-c803-badee95ba4e9"
      },
      "execution_count": 46,
      "outputs": [
        {
          "output_type": "stream",
          "name": "stderr",
          "text": [
            "<ipython-input-46-a7dc0e2e69cb>:13: FutureWarning: Downcasting object dtype arrays on .fillna, .ffill, .bfill is deprecated and will change in a future version. Call result.infer_objects(copy=False) instead. To opt-in to the future behavior, set `pd.set_option('future.no_silent_downcasting', True)`\n",
            "  feature_df4 = pd.json_normalize(df4['feature_dict']).fillna(False).astype(int)\n"
          ]
        }
      ]
    },
    {
      "cell_type": "code",
      "source": [
        "df_Bangalore=pd.concat([df_car_detail,df_car_overview,feature_df,df_car_specs],axis=1)\n",
        "df_Bangalore[\"city\"]=\"Bangalore\"\n",
        "df_Bangalore.to_csv(\"Bangalore_Data.csv\",index=False)"
      ],
      "metadata": {
        "id": "PlUlwxZfF63H"
      },
      "execution_count": 47,
      "outputs": []
    },
    {
      "cell_type": "code",
      "source": [
        "df5.new_car_detail=df5['new_car_detail'].apply(lambda x : json.loads(x.replace(\"'\",'\"').replace('None',\"1\")))\n",
        "df5_car_detail = pd.DataFrame(df5.new_car_detail.to_list())\n",
        "\n",
        "# to extract car overview\n",
        "df5.new_car_overview = df5['new_car_overview'].apply(lambda overview: car_overview_dict_creator(overview))\n",
        "df5_car_overview = pd.DataFrame(df5.new_car_overview.to_list())\n",
        "\n",
        "# to extract car feature\n",
        "feature = pd.DataFrame(df5.new_car_feature)\n",
        "feature = feature.rename(columns={feature.columns[0]: 'feature'})\n",
        "df5 = df5.merge(feature, left_index=True, right_index=True)\n",
        "df5['feature_dict'] = df5['feature'].apply(car_feature_dict_creator)\n",
        "feature_df5 = pd.json_normalize(df5['feature_dict']).fillna(False).astype(int)\n",
        "\n",
        "# extract car specs\n",
        "df5['new_car_specs'] = df5['new_car_specs'].apply(lambda spec: car_spec_dict_creator(spec))\n",
        "df5_car_specs = pd.DataFrame(df5['new_car_specs'].tolist())"
      ],
      "metadata": {
        "colab": {
          "base_uri": "https://localhost:8080/"
        },
        "id": "7XjERbNlF6zk",
        "outputId": "0d0d0d49-56e2-464a-a70b-23c0fb0ff41f"
      },
      "execution_count": 48,
      "outputs": [
        {
          "output_type": "stream",
          "name": "stderr",
          "text": [
            "<ipython-input-48-983666d1433a>:13: FutureWarning: Downcasting object dtype arrays on .fillna, .ffill, .bfill is deprecated and will change in a future version. Call result.infer_objects(copy=False) instead. To opt-in to the future behavior, set `pd.set_option('future.no_silent_downcasting', True)`\n",
            "  feature_df5 = pd.json_normalize(df5['feature_dict']).fillna(False).astype(int)\n"
          ]
        }
      ]
    },
    {
      "cell_type": "code",
      "source": [
        "df_hyderabad=pd.concat([df_car_detail,df_car_overview,feature_df,df_car_specs],axis=1)\n",
        "df_hyderabad[\"city\"]=\"Hyderabad\"\n",
        "df_hyderabad.to_csv(\"Hyderabad_Data.csv\",index=False)"
      ],
      "metadata": {
        "id": "8UJJpBAlF6pJ"
      },
      "execution_count": 49,
      "outputs": []
    },
    {
      "cell_type": "code",
      "source": [
        "import pandas as pd"
      ],
      "metadata": {
        "id": "-INcTVjOF6lo"
      },
      "execution_count": 50,
      "outputs": []
    },
    {
      "cell_type": "code",
      "source": [
        "df=pd.read_csv (r\"C:\\Users\\nsjag\\streamlit\\env\\Scripts\\__pycache__\\Newcar1_details.csv\")"
      ],
      "metadata": {
        "colab": {
          "base_uri": "https://localhost:8080/",
          "height": 287
        },
        "collapsed": true,
        "id": "2fZ72zHMF6EH",
        "outputId": "5a765683-a0c7-40a5-e4fd-d2627339b7a0"
      },
      "execution_count": 51,
      "outputs": [
        {
          "output_type": "error",
          "ename": "FileNotFoundError",
          "evalue": "[Errno 2] No such file or directory: 'C:\\\\Users\\\\nsjag\\\\streamlit\\\\env\\\\Scripts\\\\__pycache__\\\\Newcar1_details.csv'",
          "traceback": [
            "\u001b[0;31m---------------------------------------------------------------------------\u001b[0m",
            "\u001b[0;31mFileNotFoundError\u001b[0m                         Traceback (most recent call last)",
            "\u001b[0;32m<ipython-input-51-e5f09b3e2a0f>\u001b[0m in \u001b[0;36m<cell line: 0>\u001b[0;34m()\u001b[0m\n\u001b[0;32m----> 1\u001b[0;31m \u001b[0mdf\u001b[0m\u001b[0;34m=\u001b[0m\u001b[0mpd\u001b[0m\u001b[0;34m.\u001b[0m\u001b[0mread_csv\u001b[0m \u001b[0;34m(\u001b[0m\u001b[0;34mr\"C:\\Users\\nsjag\\streamlit\\env\\Scripts\\__pycache__\\Newcar1_details.csv\"\u001b[0m\u001b[0;34m)\u001b[0m\u001b[0;34m\u001b[0m\u001b[0;34m\u001b[0m\u001b[0m\n\u001b[0m",
            "\u001b[0;32m/usr/local/lib/python3.11/dist-packages/pandas/io/parsers/readers.py\u001b[0m in \u001b[0;36mread_csv\u001b[0;34m(filepath_or_buffer, sep, delimiter, header, names, index_col, usecols, dtype, engine, converters, true_values, false_values, skipinitialspace, skiprows, skipfooter, nrows, na_values, keep_default_na, na_filter, verbose, skip_blank_lines, parse_dates, infer_datetime_format, keep_date_col, date_parser, date_format, dayfirst, cache_dates, iterator, chunksize, compression, thousands, decimal, lineterminator, quotechar, quoting, doublequote, escapechar, comment, encoding, encoding_errors, dialect, on_bad_lines, delim_whitespace, low_memory, memory_map, float_precision, storage_options, dtype_backend)\u001b[0m\n\u001b[1;32m   1024\u001b[0m     \u001b[0mkwds\u001b[0m\u001b[0;34m.\u001b[0m\u001b[0mupdate\u001b[0m\u001b[0;34m(\u001b[0m\u001b[0mkwds_defaults\u001b[0m\u001b[0;34m)\u001b[0m\u001b[0;34m\u001b[0m\u001b[0;34m\u001b[0m\u001b[0m\n\u001b[1;32m   1025\u001b[0m \u001b[0;34m\u001b[0m\u001b[0m\n\u001b[0;32m-> 1026\u001b[0;31m     \u001b[0;32mreturn\u001b[0m \u001b[0m_read\u001b[0m\u001b[0;34m(\u001b[0m\u001b[0mfilepath_or_buffer\u001b[0m\u001b[0;34m,\u001b[0m \u001b[0mkwds\u001b[0m\u001b[0;34m)\u001b[0m\u001b[0;34m\u001b[0m\u001b[0;34m\u001b[0m\u001b[0m\n\u001b[0m\u001b[1;32m   1027\u001b[0m \u001b[0;34m\u001b[0m\u001b[0m\n\u001b[1;32m   1028\u001b[0m \u001b[0;34m\u001b[0m\u001b[0m\n",
            "\u001b[0;32m/usr/local/lib/python3.11/dist-packages/pandas/io/parsers/readers.py\u001b[0m in \u001b[0;36m_read\u001b[0;34m(filepath_or_buffer, kwds)\u001b[0m\n\u001b[1;32m    618\u001b[0m \u001b[0;34m\u001b[0m\u001b[0m\n\u001b[1;32m    619\u001b[0m     \u001b[0;31m# Create the parser.\u001b[0m\u001b[0;34m\u001b[0m\u001b[0;34m\u001b[0m\u001b[0m\n\u001b[0;32m--> 620\u001b[0;31m     \u001b[0mparser\u001b[0m \u001b[0;34m=\u001b[0m \u001b[0mTextFileReader\u001b[0m\u001b[0;34m(\u001b[0m\u001b[0mfilepath_or_buffer\u001b[0m\u001b[0;34m,\u001b[0m \u001b[0;34m**\u001b[0m\u001b[0mkwds\u001b[0m\u001b[0;34m)\u001b[0m\u001b[0;34m\u001b[0m\u001b[0;34m\u001b[0m\u001b[0m\n\u001b[0m\u001b[1;32m    621\u001b[0m \u001b[0;34m\u001b[0m\u001b[0m\n\u001b[1;32m    622\u001b[0m     \u001b[0;32mif\u001b[0m \u001b[0mchunksize\u001b[0m \u001b[0;32mor\u001b[0m \u001b[0miterator\u001b[0m\u001b[0;34m:\u001b[0m\u001b[0;34m\u001b[0m\u001b[0;34m\u001b[0m\u001b[0m\n",
            "\u001b[0;32m/usr/local/lib/python3.11/dist-packages/pandas/io/parsers/readers.py\u001b[0m in \u001b[0;36m__init__\u001b[0;34m(self, f, engine, **kwds)\u001b[0m\n\u001b[1;32m   1618\u001b[0m \u001b[0;34m\u001b[0m\u001b[0m\n\u001b[1;32m   1619\u001b[0m         \u001b[0mself\u001b[0m\u001b[0;34m.\u001b[0m\u001b[0mhandles\u001b[0m\u001b[0;34m:\u001b[0m \u001b[0mIOHandles\u001b[0m \u001b[0;34m|\u001b[0m \u001b[0;32mNone\u001b[0m \u001b[0;34m=\u001b[0m \u001b[0;32mNone\u001b[0m\u001b[0;34m\u001b[0m\u001b[0;34m\u001b[0m\u001b[0m\n\u001b[0;32m-> 1620\u001b[0;31m         \u001b[0mself\u001b[0m\u001b[0;34m.\u001b[0m\u001b[0m_engine\u001b[0m \u001b[0;34m=\u001b[0m \u001b[0mself\u001b[0m\u001b[0;34m.\u001b[0m\u001b[0m_make_engine\u001b[0m\u001b[0;34m(\u001b[0m\u001b[0mf\u001b[0m\u001b[0;34m,\u001b[0m \u001b[0mself\u001b[0m\u001b[0;34m.\u001b[0m\u001b[0mengine\u001b[0m\u001b[0;34m)\u001b[0m\u001b[0;34m\u001b[0m\u001b[0;34m\u001b[0m\u001b[0m\n\u001b[0m\u001b[1;32m   1621\u001b[0m \u001b[0;34m\u001b[0m\u001b[0m\n\u001b[1;32m   1622\u001b[0m     \u001b[0;32mdef\u001b[0m \u001b[0mclose\u001b[0m\u001b[0;34m(\u001b[0m\u001b[0mself\u001b[0m\u001b[0;34m)\u001b[0m \u001b[0;34m->\u001b[0m \u001b[0;32mNone\u001b[0m\u001b[0;34m:\u001b[0m\u001b[0;34m\u001b[0m\u001b[0;34m\u001b[0m\u001b[0m\n",
            "\u001b[0;32m/usr/local/lib/python3.11/dist-packages/pandas/io/parsers/readers.py\u001b[0m in \u001b[0;36m_make_engine\u001b[0;34m(self, f, engine)\u001b[0m\n\u001b[1;32m   1878\u001b[0m                 \u001b[0;32mif\u001b[0m \u001b[0;34m\"b\"\u001b[0m \u001b[0;32mnot\u001b[0m \u001b[0;32min\u001b[0m \u001b[0mmode\u001b[0m\u001b[0;34m:\u001b[0m\u001b[0;34m\u001b[0m\u001b[0;34m\u001b[0m\u001b[0m\n\u001b[1;32m   1879\u001b[0m                     \u001b[0mmode\u001b[0m \u001b[0;34m+=\u001b[0m \u001b[0;34m\"b\"\u001b[0m\u001b[0;34m\u001b[0m\u001b[0;34m\u001b[0m\u001b[0m\n\u001b[0;32m-> 1880\u001b[0;31m             self.handles = get_handle(\n\u001b[0m\u001b[1;32m   1881\u001b[0m                 \u001b[0mf\u001b[0m\u001b[0;34m,\u001b[0m\u001b[0;34m\u001b[0m\u001b[0;34m\u001b[0m\u001b[0m\n\u001b[1;32m   1882\u001b[0m                 \u001b[0mmode\u001b[0m\u001b[0;34m,\u001b[0m\u001b[0;34m\u001b[0m\u001b[0;34m\u001b[0m\u001b[0m\n",
            "\u001b[0;32m/usr/local/lib/python3.11/dist-packages/pandas/io/common.py\u001b[0m in \u001b[0;36mget_handle\u001b[0;34m(path_or_buf, mode, encoding, compression, memory_map, is_text, errors, storage_options)\u001b[0m\n\u001b[1;32m    871\u001b[0m         \u001b[0;32mif\u001b[0m \u001b[0mioargs\u001b[0m\u001b[0;34m.\u001b[0m\u001b[0mencoding\u001b[0m \u001b[0;32mand\u001b[0m \u001b[0;34m\"b\"\u001b[0m \u001b[0;32mnot\u001b[0m \u001b[0;32min\u001b[0m \u001b[0mioargs\u001b[0m\u001b[0;34m.\u001b[0m\u001b[0mmode\u001b[0m\u001b[0;34m:\u001b[0m\u001b[0;34m\u001b[0m\u001b[0;34m\u001b[0m\u001b[0m\n\u001b[1;32m    872\u001b[0m             \u001b[0;31m# Encoding\u001b[0m\u001b[0;34m\u001b[0m\u001b[0;34m\u001b[0m\u001b[0m\n\u001b[0;32m--> 873\u001b[0;31m             handle = open(\n\u001b[0m\u001b[1;32m    874\u001b[0m                 \u001b[0mhandle\u001b[0m\u001b[0;34m,\u001b[0m\u001b[0;34m\u001b[0m\u001b[0;34m\u001b[0m\u001b[0m\n\u001b[1;32m    875\u001b[0m                 \u001b[0mioargs\u001b[0m\u001b[0;34m.\u001b[0m\u001b[0mmode\u001b[0m\u001b[0;34m,\u001b[0m\u001b[0;34m\u001b[0m\u001b[0;34m\u001b[0m\u001b[0m\n",
            "\u001b[0;31mFileNotFoundError\u001b[0m: [Errno 2] No such file or directory: 'C:\\\\Users\\\\nsjag\\\\streamlit\\\\env\\\\Scripts\\\\__pycache__\\\\Newcar1_details.csv'"
          ]
        }
      ]
    },
    {
      "cell_type": "code",
      "source": [
        "df.duplicated().sum()\n",
        "df.drop_duplicates(inplace=True)\n",
        "df.reset_index(inplace=True)"
      ],
      "metadata": {
        "id": "TTTHDXuHMrax"
      },
      "execution_count": null,
      "outputs": []
    },
    {
      "cell_type": "code",
      "source": [],
      "metadata": {
        "id": "He-OjKn1MuLn"
      },
      "execution_count": null,
      "outputs": []
    }
  ]
}