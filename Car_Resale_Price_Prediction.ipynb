{
  "nbformat": 4,
  "nbformat_minor": 0,
  "metadata": {
    "colab": {
      "provenance": [],
      "authorship_tag": "ABX9TyPf4q24so2nldmewmpP32V4",
      "include_colab_link": true
    },
    "kernelspec": {
      "name": "python3",
      "display_name": "Python 3"
    },
    "language_info": {
      "name": "python"
    }
  },
  "cells": [
    {
      "cell_type": "markdown",
      "metadata": {
        "id": "view-in-github",
        "colab_type": "text"
      },
      "source": [
        "<a href=\"https://colab.research.google.com/github/raju1207/CarDekho-Data-Prediction/blob/main/Car_Resale_Price_Prediction.ipynb\" target=\"_parent\"><img src=\"https://colab.research.google.com/assets/colab-badge.svg\" alt=\"Open In Colab\"/></a>"
      ]
    },
    {
      "cell_type": "code",
      "source": [
        "import pandas as pd\n",
        "import json\n",
        "import numpy as np"
      ],
      "metadata": {
        "id": "PkojpMh1fvaG"
      },
      "execution_count": 30,
      "outputs": []
    },
    {
      "cell_type": "code",
      "source": [
        "# Data loading\n",
        "df = pd.read_excel('kolkata_cars.xlsx')\n",
        "df1 = pd.read_excel('jaipur_cars.xlsx')\n",
        "df2 = pd.read_excel('delhi_cars.xlsx')\n",
        "df3 = pd.read_excel('chennai_cars.xlsx')\n",
        "df4 = pd.read_excel('bangalore_cars.xlsx')\n",
        "df5 = pd.read_excel('hyderabad_cars.xlsx')"
      ],
      "metadata": {
        "id": "QHl2LJoIgETW"
      },
      "execution_count": 31,
      "outputs": []
    },
    {
      "cell_type": "code",
      "source": [
        "def car_overview_dict_creator(overview):\n",
        "    overview_dict = json.loads(overview.replace(\"'\", '\"').replace('None', \"1\"))\n",
        "    all_overviews = {}\n",
        "    for dictionary in overview_dict['top']:\n",
        "        all_overviews.update({dictionary['key']: dictionary['value']})\n",
        "    return all_overviews"
      ],
      "metadata": {
        "id": "TDbAqMLSDkFj"
      },
      "execution_count": 32,
      "outputs": []
    },
    {
      "cell_type": "code",
      "source": [],
      "metadata": {
        "id": "gPgQ2RNMDkCK"
      },
      "execution_count": null,
      "outputs": []
    },
    {
      "cell_type": "code",
      "source": [],
      "metadata": {
        "id": "sPVUPEG3Dj-S"
      },
      "execution_count": null,
      "outputs": []
    },
    {
      "cell_type": "code",
      "source": [],
      "metadata": {
        "id": "8UqL_SRsDj2N"
      },
      "execution_count": null,
      "outputs": []
    },
    {
      "cell_type": "code",
      "source": [
        "def car_overview_dict_creator(overview):\n",
        "    overview_dict = json.loads(overview.replace(\"'\", '\"').replace('None', \"1\"))\n",
        "    all_overviews = {}\n",
        "    for dictionary in overview_dict['top']:\n",
        "        all_overviews.update({dictionary['key']: dictionary['value']})\n",
        "    return all_overviews"
      ],
      "metadata": {
        "id": "qDaneGuIiVlf"
      },
      "execution_count": null,
      "outputs": []
    },
    {
      "cell_type": "code",
      "source": [
        "def car_feature_dict_creator(feature):\n",
        "  all_features = {}\n",
        "  feature_dict = json.loads(feature.replace(\"'\", '\"').replace('None', \"1\"))\n",
        "  for dictionary in feature_dict['top']:\n",
        "    all_features.update({dictionary['value']: True})\n",
        "    for section in feature_dict.get('data', []):\n",
        "      for item in section.get('list', []):\n",
        "        all_features.update({item['value']: True})\n",
        "  return all_features"
      ],
      "metadata": {
        "id": "3MjX8zMZijin"
      },
      "execution_count": null,
      "outputs": []
    },
    {
      "cell_type": "code",
      "source": [
        "def car_spec_dict_creator(spec):\n",
        "    all_specs = {}\n",
        "    specs_dict = json.loads(spec.replace(\"'\", '\"').replace('None', \"null\"))\n",
        "    for dictionary in specs_dict.get('top', []):\n",
        "      all_specs.update({dictionary['key']: dictionary['value']})\n",
        "    # Extract nested specifications\n",
        "    for dictionary in specs_dict.get('data', []):\n",
        "      for item in dictionary.get('list', []):\n",
        "        all_specs.update({item['key'] : item['value']})\n",
        "    return all_specs"
      ],
      "metadata": {
        "id": "-Qg_GpQkim6V"
      },
      "execution_count": null,
      "outputs": []
    },
    {
      "cell_type": "code",
      "source": [
        "# Delhi Car Sales Data\n",
        "\n",
        "Delhi_Data.new_car_detail = Delhi_Data['new_car_detail'].apply(lambda x : json.loads(x.replace(\"'\",'\"').replace('None',\"1\")))\n",
        "df_car_detail = pd.DataFrame(Delhi_Data.new_car_detail.to_list())\n",
        "\n",
        "# to extract car overview\n",
        "Delhi_Data.new_car_overview = Delhi_Data['new_car_overview'].apply(lambda overview: car_overview_dict_creator(overview))\n",
        "df_car_overview = pd.DataFrame(Delhi_Data.new_car_overview.to_list())\n",
        "\n",
        "# to extract car feature\n",
        "feature = pd.DataFrame(Delhi_Data.new_car_feature)\n",
        "feature = feature.rename(columns={feature.columns[0]: 'feature'})\n",
        "\n",
        "df = Delhi_Data.merge(feature, left_index=True, right_index=True)\n",
        "df['feature_dict'] = df['feature'].apply(car_feature_dict_creator)\n",
        "feature_df = pd.json_normalize(df['feature_dict']).fillna(False).astype(int)\n",
        "\n",
        "# extract car specs\n",
        "df['new_car_specs'] = df['new_car_specs'].apply(lambda spec: car_spec_dict_creator(spec))\n",
        "df_car_specs = pd.DataFrame(df['new_car_specs'].tolist())"
      ],
      "metadata": {
        "colab": {
          "base_uri": "https://localhost:8080/"
        },
        "id": "Q01bviKjipdi",
        "outputId": "3e73ccb2-bdce-4e49-f77c-8d0c36ebce19"
      },
      "execution_count": null,
      "outputs": [
        {
          "output_type": "stream",
          "name": "stderr",
          "text": [
            "<ipython-input-12-6276b0723f07>:14: FutureWarning: Downcasting object dtype arrays on .fillna, .ffill, .bfill is deprecated and will change in a future version. Call result.infer_objects(copy=False) instead. To opt-in to the future behavior, set `pd.set_option('future.no_silent_downcasting', True)`\n",
            "  feature_df = pd.json_normalize(df['feature_dict']).fillna(False).astype(int)\n"
          ]
        }
      ]
    },
    {
      "cell_type": "code",
      "source": [
        "Chennai_Data = pd.concat([df_car_detail,df_car_overview,feature_df,df_car_specs],axis=1)\n",
        "Chennai_Data[\"city\"]=\"Chennai\"\n",
        "Chennai_Data.to_csv(\"Chennai_Data_final.csv\",index=False)"
      ],
      "metadata": {
        "id": "AbAVJxMZjTuD"
      },
      "execution_count": null,
      "outputs": []
    },
    {
      "cell_type": "code",
      "source": [
        "#Jaipur Car Sales Data\n",
        "\n",
        "Jaipur_Data.new_car_detail = Jaipur_Data['new_car_detail'].apply(lambda x : json.loads(x.replace(\"'\",'\"').replace('None',\"1\")))\n",
        "Jaipur_Data_car_detail = pd.DataFrame(Jaipur_Data.new_car_detail.to_list())\n",
        "\n",
        "# to extract car overview\n",
        "Jaipur_Data.new_car_overview = Jaipur_Data['new_car_overview'].apply(lambda overview: car_overview_dict_creator(overview))\n",
        "Jaipur_Data_car_overview = pd.DataFrame(Jaipur_Data.new_car_overview.to_list())\n",
        "\n",
        "# to extract car feature\n",
        "feature = pd.DataFrame(Jaipur_Data.new_car_feature)\n",
        "feature = feature.rename(columns={feature.columns[0]: 'feature'})\n",
        "Jaipur_Data = Jaipur_Data.merge(feature, left_index=True, right_index=True)\n",
        "Jaipur_Data['feature_dict'] = Jaipur_Data['feature'].apply(car_feature_dict_creator)\n",
        "Jaipur_Data_feature = pd.json_normalize(Jaipur_Data['feature_dict']).fillna(False).astype(int)\n",
        "\n",
        "# extract car specs\n",
        "Jaipur_Data['new_car_specs'] = Jaipur_Data['new_car_specs'].apply(lambda spec: car_spec_dict_creator(spec))\n",
        "Jaipur_Data_car_specs = pd.DataFrame(Jaipur_Data['new_car_specs'].tolist())"
      ],
      "metadata": {
        "colab": {
          "base_uri": "https://localhost:8080/"
        },
        "id": "mOYjMvvDjbx0",
        "outputId": "2f3696f3-003e-4408-ad72-31e32f1f0658"
      },
      "execution_count": null,
      "outputs": [
        {
          "output_type": "stream",
          "name": "stderr",
          "text": [
            "<ipython-input-14-a4a0d68ca9f5>:13: FutureWarning: Downcasting object dtype arrays on .fillna, .ffill, .bfill is deprecated and will change in a future version. Call result.infer_objects(copy=False) instead. To opt-in to the future behavior, set `pd.set_option('future.no_silent_downcasting', True)`\n",
            "  Jaipur_Data_feature = pd.json_normalize(Jaipur_Data['feature_dict']).fillna(False).astype(int)\n"
          ]
        }
      ]
    },
    {
      "cell_type": "code",
      "source": [
        "Jaipur_Data = pd.concat([df_car_detail,df_car_overview,feature_df,df_car_specs],axis=1)\n",
        "Jaipur_Data[\"city\"]=\"Jaipur\"\n",
        "Jaipur_Data.to_csv(\"Jaipur_Data_final.csv\",index=False)"
      ],
      "metadata": {
        "id": "qCnS1r8NlYuM"
      },
      "execution_count": null,
      "outputs": []
    },
    {
      "cell_type": "code",
      "source": [
        "#Kolkata Car Sales Data\n",
        "\n",
        "Kolkata_Data.new_car_detail = Kolkata_Data['new_car_detail'].apply(lambda x : json.loads(x.replace(\"'\",'\"').replace('None',\"1\")))\n",
        "Kolkata_Data_car_detail = pd.DataFrame(Kolkata_Data.new_car_detail.to_list())\n",
        "# to extract car overview\n",
        "Kolkata_Data.new_car_overview = Kolkata_Data['new_car_overview'].apply(lambda overview: car_overview_dict_creator(overview))\n",
        "Kolkata_Data_car_overview = pd.DataFrame(Kolkata_Data.new_car_overview.to_list())\n",
        "# to extract car feature\n",
        "feature = pd.DataFrame(Kolkata_Data.new_car_feature)\n",
        "feature = feature.rename(columns={feature.columns[0]: 'feature'})\n",
        "Kolkata_Data = Kolkata_Data.merge(feature, left_index=True, right_index=True)\n",
        "Kolkata_Data['feature_dict'] = Kolkata_Data['feature'].apply(car_feature_dict_creator)\n",
        "Kolkata_Data_feature = pd.json_normalize(Kolkata_Data['feature_dict']).fillna(False).astype(int)\n",
        "# extract car specs\n",
        "Kolkata_Data['new_car_specs'] = Kolkata_Data['new_car_specs'].apply(lambda spec: car_spec_dict_creator(spec))\n",
        "Kolkata_Data_car_specs = pd.DataFrame(Kolkata_Data['new_car_specs'].tolist())"
      ],
      "metadata": {
        "colab": {
          "base_uri": "https://localhost:8080/"
        },
        "id": "gHgu8bWVnn3U",
        "outputId": "0b8e0981-d629-4a75-dc95-d83dc9e5d487"
      },
      "execution_count": null,
      "outputs": [
        {
          "output_type": "stream",
          "name": "stderr",
          "text": [
            "<ipython-input-16-aea79596897d>:13: FutureWarning: Downcasting object dtype arrays on .fillna, .ffill, .bfill is deprecated and will change in a future version. Call result.infer_objects(copy=False) instead. To opt-in to the future behavior, set `pd.set_option('future.no_silent_downcasting', True)`\n",
            "  Kolkata_Data_feature = pd.json_normalize(Kolkata_Data['feature_dict']).fillna(False).astype(int)\n"
          ]
        }
      ]
    },
    {
      "cell_type": "code",
      "source": [
        "Kolkata_Data = pd.concat([Kolkata_Data_car_detail, Kolkata_Data_car_overview, Kolkata_Data_feature, Kolkata_Data_car_specs],axis=1)\n",
        "Kolkata_Data[\"city\"]=\"Kolkata\"\n",
        "Kolkata_Data.to_csv(\"Kolkata_Data_final.csv\",index=False)"
      ],
      "metadata": {
        "id": "EFBEPH_joyu6"
      },
      "execution_count": null,
      "outputs": []
    }
  ]
}