{
  "nbformat": 4,
  "nbformat_minor": 0,
  "metadata": {
    "colab": {
      "provenance": [],
      "authorship_tag": "ABX9TyPTzzIIqiD+pw88huQs/67g",
      "include_colab_link": true
    },
    "kernelspec": {
      "name": "python3",
      "display_name": "Python 3"
    },
    "language_info": {
      "name": "python"
    }
  },
  "cells": [
    {
      "cell_type": "markdown",
      "metadata": {
        "id": "view-in-github",
        "colab_type": "text"
      },
      "source": [
        "<a href=\"https://colab.research.google.com/github/raju1207/CarDekho-Data-Prediction/blob/main/Car_Resale_Price_Prediction.ipynb\" target=\"_parent\"><img src=\"https://colab.research.google.com/assets/colab-badge.svg\" alt=\"Open In Colab\"/></a>"
      ]
    },
    {
      "cell_type": "code",
      "source": [
        "import pandas as pd\n",
        "import json\n",
        "import numpy as np"
      ],
      "metadata": {
        "id": "PkojpMh1fvaG"
      },
      "execution_count": 1,
      "outputs": []
    },
    {
      "cell_type": "code",
      "source": [
        "# Data loading\n",
        "df = pd.read_excel('kolkata_cars.xlsx')\n",
        "df1 = pd.read_excel('jaipur_cars.xlsx')\n",
        "df2 = pd.read_excel('delhi_cars.xlsx')\n",
        "df3 = pd.read_excel('chennai_cars.xlsx')\n",
        "df4 = pd.read_excel('bangalore_cars.xlsx')\n",
        "df5 = pd.read_excel('hyderabad_cars.xlsx')"
      ],
      "metadata": {
        "id": "QHl2LJoIgETW"
      },
      "execution_count": 3,
      "outputs": []
    },
    {
      "cell_type": "code",
      "source": [
        "def car_overview_dict_creator(overview):\n",
        "    overview_dict = json.loads(overview.replace(\"'\", '\"').replace('None', \"1\"))\n",
        "    all_overviews = {}\n",
        "    for dictionary in overview_dict['top']:\n",
        "        all_overviews.update({dictionary['key']: dictionary['value']})\n",
        "    return all_overviews"
      ],
      "metadata": {
        "id": "TDbAqMLSDkFj"
      },
      "execution_count": 4,
      "outputs": []
    },
    {
      "cell_type": "code",
      "source": [
        "def car_feature_dict_creator(feature):\n",
        "  all_features = {}\n",
        "  feature_dict = json.loads(feature.replace(\"'\", '\"').replace('None', \"1\"))\n",
        "  for dictionary in feature_dict['top']:\n",
        "    all_features.update({dictionary['value']: True})\n",
        "    for section in feature_dict.get('data', []):\n",
        "      for item in section.get('list', []):\n",
        "        all_features.update({item['value']: True})\n",
        "  return all_features"
      ],
      "metadata": {
        "id": "gPgQ2RNMDkCK"
      },
      "execution_count": 5,
      "outputs": []
    },
    {
      "cell_type": "code",
      "source": [
        "def car_spec_dict_creator(spec):\n",
        "    all_specs = {}\n",
        "    specs_dict = json.loads(spec.replace(\"'\", '\"').replace('None', \"null\"))\n",
        "    for dictionary in specs_dict.get('top', []):\n",
        "      all_specs.update({dictionary['key']: dictionary['value']})\n",
        "    # Extract nested specifications\n",
        "    for dictionary in specs_dict.get('data', []):\n",
        "      for item in dictionary.get('list', []):\n",
        "        all_specs.update({item['key'] : item['value']})\n",
        "    return all_specs"
      ],
      "metadata": {
        "id": "sPVUPEG3Dj-S"
      },
      "execution_count": null,
      "outputs": []
    },
    {
      "cell_type": "code",
      "source": [
        "df.new_car_detail=df['new_car_detail'].apply(lambda x : json.loads(x.replace(\"'\",'\"').replace('None',\"1\")))\n",
        "df_car_detail = pd.DataFrame(df.new_car_detail.to_list())\n",
        "# to extract car overview\n",
        "df.new_car_overview = df['new_car_overview'].apply(lambda overview: car_overview_dict_creator(overview))\n",
        "df_car_overview = pd.DataFrame(df.new_car_overview.to_list())\n",
        "# to extract car feature\n",
        "feature = pd.DataFrame(df.new_car_feature)\n",
        "feature = feature.rename(columns={feature.columns[0]: 'feature'})\n",
        "df = df.merge(feature, left_index=True, right_index=True)\n",
        "df['feature_dict'] = df['feature'].apply(car_feature_dict_creator)\n",
        "feature_df = pd.json_normalize(df['feature_dict']).fillna(False).astype(int)\n",
        "# extract car specs\n",
        "df['new_car_specs'] = df['new_car_specs'].apply(lambda spec: car_spec_dict_creator(spec))\n",
        "df_car_specs = pd.DataFrame(df['new_car_specs'].tolist())"
      ],
      "metadata": {
        "colab": {
          "base_uri": "https://localhost:8080/"
        },
        "id": "VTDhK580Elq0",
        "outputId": "5103e4e5-7970-451b-b01e-fb1951c09ddc"
      },
      "execution_count": null,
      "outputs": [
        {
          "output_type": "stream",
          "name": "stderr",
          "text": [
            "<ipython-input-6-d7bde1a0bc22>:11: FutureWarning: Downcasting object dtype arrays on .fillna, .ffill, .bfill is deprecated and will change in a future version. Call result.infer_objects(copy=False) instead. To opt-in to the future behavior, set `pd.set_option('future.no_silent_downcasting', True)`\n",
            "  feature_df = pd.json_normalize(df['feature_dict']).fillna(False).astype(int)\n"
          ]
        }
      ]
    },
    {
      "cell_type": "code",
      "source": [
        "df_kolkata=pd.concat([df_car_detail,df_car_overview,feature_df,df_car_specs],axis=1)\n",
        "df_kolkata[\"city\"]=\"Kolkata\"\n",
        "df_kolkata.to_csv(\"Kolkata_Data.csv\",index=False)"
      ],
      "metadata": {
        "id": "8UqL_SRsDj2N"
      },
      "execution_count": null,
      "outputs": []
    },
    {
      "cell_type": "code",
      "source": [
        "df1.new_car_detail=df1['new_car_detail'].apply(lambda x : json.loads(x.replace(\"'\",'\"').replace('None',\"1\")))\n",
        "df1_car_detail = pd.DataFrame(df1.new_car_detail.to_list())\n",
        "\n",
        "# to extract car overview\n",
        "df1.new_car_overview = df1['new_car_overview'].apply(lambda overview: car_overview_dict_creator(overview))\n",
        "df1_car_overview = pd.DataFrame(df1.new_car_overview.to_list())\n",
        "\n",
        "# to extract car feature\n",
        "feature = pd.DataFrame(df1.new_car_feature)\n",
        "feature = feature.rename(columns={feature.columns[0]: 'feature'})\n",
        "df1 = df1.merge(feature, left_index=True, right_index=True)\n",
        "df1['feature_dict'] = df1['feature'].apply(car_feature_dict_creator)\n",
        "feature_df1 = pd.json_normalize(df1['feature_dict']).fillna(False).astype(int)\n",
        "\n",
        "# extract car specs\n",
        "df1['new_car_specs'] = df1['new_car_specs'].apply(lambda spec: car_spec_dict_creator(spec))\n",
        "df1_car_specs = pd.DataFrame(df1['new_car_specs'].tolist())"
      ],
      "metadata": {
        "colab": {
          "base_uri": "https://localhost:8080/"
        },
        "id": "Dj3JFIIEEyRa",
        "outputId": "71df2250-1bb4-4f0b-a16d-cf9edb2634c3"
      },
      "execution_count": null,
      "outputs": [
        {
          "output_type": "stream",
          "name": "stderr",
          "text": [
            "<ipython-input-8-aeb3c85e5a4e>:13: FutureWarning: Downcasting object dtype arrays on .fillna, .ffill, .bfill is deprecated and will change in a future version. Call result.infer_objects(copy=False) instead. To opt-in to the future behavior, set `pd.set_option('future.no_silent_downcasting', True)`\n",
            "  feature_df1 = pd.json_normalize(df1['feature_dict']).fillna(False).astype(int)\n"
          ]
        }
      ]
    },
    {
      "cell_type": "code",
      "source": [
        "df_jaipur=pd.concat([df_car_detail,df_car_overview,feature_df,df_car_specs],axis=1)\n",
        "df_jaipur[\"city\"]=\"Jaipur\"\n",
        "df_jaipur.to_csv(\"Jaipur_Data.csv\",index=False)"
      ],
      "metadata": {
        "id": "xl6QFZnqEyN6"
      },
      "execution_count": null,
      "outputs": []
    },
    {
      "cell_type": "code",
      "source": [
        "df2.new_car_detail=df2['new_car_detail'].apply(lambda x : json.loads(x.replace(\"'\",'\"').replace('None',\"1\")))\n",
        "df2_car_detail = pd.DataFrame(df2.new_car_detail.to_list())\n",
        "\n",
        "# to extract car overview\n",
        "df2.new_car_overview = df2['new_car_overview'].apply(lambda overview: car_overview_dict_creator(overview))\n",
        "df2_car_overview = pd.DataFrame(df2.new_car_overview.to_list())\n",
        "\n",
        "# to extract car feature\n",
        "feature = pd.DataFrame(df2.new_car_feature)\n",
        "feature = feature.rename(columns={feature.columns[0]: 'feature'})\n",
        "df2 = df2.merge(feature, left_index=True, right_index=True)\n",
        "df2['feature_dict'] = df2['feature'].apply(car_feature_dict_creator)\n",
        "feature_df2 = pd.json_normalize(df2['feature_dict']).fillna(False).astype(int)\n",
        "\n",
        "# extract car specs\n",
        "df2['new_car_specs'] = df2['new_car_specs'].apply(lambda spec: car_spec_dict_creator(spec))\n",
        "df2_car_specs = pd.DataFrame(df2['new_car_specs'].tolist())"
      ],
      "metadata": {
        "colab": {
          "base_uri": "https://localhost:8080/"
        },
        "id": "c6S0Y6JZEyK6",
        "outputId": "3c148fce-cdd2-40a1-f03b-32e30e8a7910"
      },
      "execution_count": null,
      "outputs": [
        {
          "output_type": "stream",
          "name": "stderr",
          "text": [
            "<ipython-input-10-7c9a75291f50>:13: FutureWarning: Downcasting object dtype arrays on .fillna, .ffill, .bfill is deprecated and will change in a future version. Call result.infer_objects(copy=False) instead. To opt-in to the future behavior, set `pd.set_option('future.no_silent_downcasting', True)`\n",
            "  feature_df2 = pd.json_normalize(df2['feature_dict']).fillna(False).astype(int)\n"
          ]
        }
      ]
    },
    {
      "cell_type": "code",
      "source": [
        "df_delhi=pd.concat([df_car_detail,df_car_overview,feature_df,df_car_specs],axis=1)\n",
        "df_delhi[\"city\"]=\"Delhi\"\n",
        "df_delhi.to_csv(\"Delhi Data.csv\",index=False)"
      ],
      "metadata": {
        "id": "Rqqr6OaLEyG2"
      },
      "execution_count": null,
      "outputs": []
    },
    {
      "cell_type": "code",
      "source": [
        "df3.new_car_detail=df3['new_car_detail'].apply(lambda x : json.loads(x.replace(\"'\",'\"').replace('None',\"1\")))\n",
        "df3_car_detail = pd.DataFrame(df3.new_car_detail.to_list())\n",
        "\n",
        "# to extract car overview\n",
        "df3.new_car_overview = df3['new_car_overview'].apply(lambda overview: car_overview_dict_creator(overview))\n",
        "df3_car_overview = pd.DataFrame(df3.new_car_overview.to_list())\n",
        "\n",
        "# to extract car feature\n",
        "feature = pd.DataFrame(df3.new_car_feature)\n",
        "feature = feature.rename(columns={feature.columns[0]: 'feature'})\n",
        "df3 = df3.merge(feature, left_index=True, right_index=True)\n",
        "df3['feature_dict'] = df3['feature'].apply(car_feature_dict_creator)\n",
        "feature_df3 = pd.json_normalize(df3['feature_dict']).fillna(False).astype(int)\n",
        "\n",
        "# extract car specs\n",
        "df3['new_car_specs'] = df3['new_car_specs'].apply(lambda spec: car_spec_dict_creator(spec))\n",
        "df3_car_specs = pd.DataFrame(df3['new_car_specs'].tolist())"
      ],
      "metadata": {
        "colab": {
          "base_uri": "https://localhost:8080/"
        },
        "id": "Lw6ijBLlEx8d",
        "outputId": "6b51395e-3c84-466c-940f-fbb2173bc2d5"
      },
      "execution_count": null,
      "outputs": [
        {
          "output_type": "stream",
          "name": "stderr",
          "text": [
            "<ipython-input-12-880c5a0369c3>:13: FutureWarning: Downcasting object dtype arrays on .fillna, .ffill, .bfill is deprecated and will change in a future version. Call result.infer_objects(copy=False) instead. To opt-in to the future behavior, set `pd.set_option('future.no_silent_downcasting', True)`\n",
            "  feature_df3 = pd.json_normalize(df3['feature_dict']).fillna(False).astype(int)\n"
          ]
        }
      ]
    },
    {
      "cell_type": "code",
      "source": [
        "df_chennai=pd.concat([df_car_detail,df_car_overview,feature_df,df_car_specs],axis=1)\n",
        "df_chennai[\"city\"]=\"Chennai\"\n",
        "df_chennai.to_csv(\"Chennai_Data.csv\",index=False)"
      ],
      "metadata": {
        "id": "RaoKlSDvFsOX"
      },
      "execution_count": null,
      "outputs": []
    },
    {
      "cell_type": "code",
      "source": [
        "df4.new_car_detail = df4['new_car_detail'].apply(lambda x : json.loads(x.replace(\"'\",'\"').replace('None',\"1\")))\n",
        "df4_car_detail = pd.DataFrame(df4.new_car_detail.to_list())\n",
        "\n",
        "# to extract car overview\n",
        "df4.new_car_overview = df4['new_car_overview'].apply(lambda overview: car_overview_dict_creator(overview))\n",
        "df4_car_overview = pd.DataFrame(df4.new_car_overview.to_list())\n",
        "\n",
        "# to extract car feature\n",
        "feature = pd.DataFrame(df4.new_car_feature)\n",
        "feature = feature.rename(columns={feature.columns[0]: 'feature'})\n",
        "df4 = df4.merge(feature, left_index=True, right_index=True)\n",
        "df4['feature_dict'] = df4['feature'].apply(car_feature_dict_creator)\n",
        "feature_df4 = pd.json_normalize(df4['feature_dict']).fillna(False).astype(int)\n",
        "\n",
        "# extract car specs\n",
        "df4['new_car_specs'] = df4['new_car_specs'].apply(lambda spec: car_spec_dict_creator(spec))\n",
        "df4_car_specs = pd.DataFrame(df4['new_car_specs'].tolist())"
      ],
      "metadata": {
        "colab": {
          "base_uri": "https://localhost:8080/"
        },
        "id": "pakSq1DvFsK7",
        "outputId": "b3779fe6-a479-4df8-b757-f56b1a303056"
      },
      "execution_count": null,
      "outputs": [
        {
          "output_type": "stream",
          "name": "stderr",
          "text": [
            "<ipython-input-14-a7dc0e2e69cb>:13: FutureWarning: Downcasting object dtype arrays on .fillna, .ffill, .bfill is deprecated and will change in a future version. Call result.infer_objects(copy=False) instead. To opt-in to the future behavior, set `pd.set_option('future.no_silent_downcasting', True)`\n",
            "  feature_df4 = pd.json_normalize(df4['feature_dict']).fillna(False).astype(int)\n"
          ]
        }
      ]
    },
    {
      "cell_type": "code",
      "source": [
        "df_Bangalore=pd.concat([df_car_detail,df_car_overview,feature_df,df_car_specs],axis=1)\n",
        "df_Bangalore[\"city\"]=\"Bangalore\"\n",
        "df_Bangalore.to_csv(\"Bangalore_Data.csv\",index=False)"
      ],
      "metadata": {
        "id": "PlUlwxZfF63H"
      },
      "execution_count": null,
      "outputs": []
    },
    {
      "cell_type": "code",
      "source": [
        "df5.new_car_detail=df5['new_car_detail'].apply(lambda x : json.loads(x.replace(\"'\",'\"').replace('None',\"1\")))\n",
        "df5_car_detail = pd.DataFrame(df5.new_car_detail.to_list())\n",
        "\n",
        "# to extract car overview\n",
        "df5.new_car_overview = df5['new_car_overview'].apply(lambda overview: car_overview_dict_creator(overview))\n",
        "df5_car_overview = pd.DataFrame(df5.new_car_overview.to_list())\n",
        "\n",
        "# to extract car feature\n",
        "feature = pd.DataFrame(df5.new_car_feature)\n",
        "feature = feature.rename(columns={feature.columns[0]: 'feature'})\n",
        "df5 = df5.merge(feature, left_index=True, right_index=True)\n",
        "df5['feature_dict'] = df5['feature'].apply(car_feature_dict_creator)\n",
        "feature_df5 = pd.json_normalize(df5['feature_dict']).fillna(False).astype(int)\n",
        "\n",
        "# extract car specs\n",
        "df5['new_car_specs'] = df5['new_car_specs'].apply(lambda spec: car_spec_dict_creator(spec))\n",
        "df5_car_specs = pd.DataFrame(df5['new_car_specs'].tolist())"
      ],
      "metadata": {
        "colab": {
          "base_uri": "https://localhost:8080/"
        },
        "id": "7XjERbNlF6zk",
        "outputId": "0470f25a-5a92-41d0-b627-f45a68690df7"
      },
      "execution_count": null,
      "outputs": [
        {
          "output_type": "stream",
          "name": "stderr",
          "text": [
            "<ipython-input-16-983666d1433a>:13: FutureWarning: Downcasting object dtype arrays on .fillna, .ffill, .bfill is deprecated and will change in a future version. Call result.infer_objects(copy=False) instead. To opt-in to the future behavior, set `pd.set_option('future.no_silent_downcasting', True)`\n",
            "  feature_df5 = pd.json_normalize(df5['feature_dict']).fillna(False).astype(int)\n"
          ]
        }
      ]
    },
    {
      "cell_type": "code",
      "source": [
        "df_hyderabad=pd.concat([df_car_detail,df_car_overview,feature_df,df_car_specs],axis=1)\n",
        "df_hyderabad[\"city\"]=\"Hyderabad\"\n",
        "df_hyderabad.to_csv(\"Hyderabad_Data.csv\",index=False)"
      ],
      "metadata": {
        "id": "8UJJpBAlF6pJ"
      },
      "execution_count": null,
      "outputs": []
    }
  ]
}